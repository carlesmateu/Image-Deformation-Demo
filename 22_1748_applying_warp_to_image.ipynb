{
  "nbformat": 4,
  "nbformat_minor": 0,
  "metadata": {
    "colab": {
      "provenance": []
    },
    "kernelspec": {
      "name": "python3",
      "display_name": "Python 3"
    },
    "language_info": {
      "name": "python"
    }
  },
  "cells": [
    {
      "cell_type": "markdown",
      "source": [
        "We aim to show that using the ANTs function to apply a deformation field produces the same result as using an alternative function. First we import needed libraries and define functions"
      ],
      "metadata": {
        "id": "l2Bw20Kk4Wyf"
      }
    },
    {
      "cell_type": "code",
      "source": [
        "!pip install antspyx\n",
        "\n",
        "# Libraries and functions\n",
        "import nibabel as nib\n",
        "import ants\n",
        "import scipy.ndimage as sc\n",
        "import numpy as np\n",
        "\n",
        "def apply_with_ants(mri_path, warp_path, output_path,):\n",
        "    mri = ants.image_read(mri_path)\n",
        "    mri_disp = ants.apply_transforms(mri, mri, warp_path)\n",
        "    ants.image_write(mri_disp, output_path)\n",
        "\n",
        "\n",
        "\n",
        "def apply_warp_alternative(image, warp_field, interp_order, output_path_map):\n",
        "\n",
        "    image = nib.load(image)\n",
        "    affine = image.affine\n",
        "    image = image.get_fdata()\n",
        "    warp_field = nib.load(warp_field).get_fdata()\n",
        "\n",
        "    # Extract the x, y, and z components of the warp field\n",
        "    x_component = warp_field[:, :, :, 0,0]\n",
        "    y_component = warp_field[:, :, :,0, 1]\n",
        "    z_component = warp_field[:, :, :,0, 2]\n",
        "\n",
        "    # Create an array of coordinates for the image and segmentation mask\n",
        "    coordinates_image = np.indices(image.shape).astype(float)\n",
        "\n",
        "    # Apply the warp field to the coordinates\n",
        "    coordinates_image[0] += x_component\n",
        "    coordinates_image[1] += y_component\n",
        "    coordinates_image[2] += z_component\n",
        "\n",
        "    # Use the map_coordinates function to apply the warp to the image\n",
        "    deformed_image = sc.map_coordinates(\n",
        "        image, coordinates_image, order=interp_order)\n",
        "\n",
        "    deformed_nii = nib.Nifti1Image(deformed_image, affine)\n",
        "    nib.save(deformed_nii, output_path_map)\n",
        "\n",
        "\n",
        "def compute_ncc(arr1, arr2):\n",
        "    # Check if the arrays have the same length\n",
        "    if len(arr1) != len(arr2):\n",
        "        raise ValueError(\"Arrays must have the same length\")\n",
        "\n",
        "    # Convert the arrays to numpy arrays to ensure calculations work properly\n",
        "    arr1 = np.array(arr1)\n",
        "    arr2 = np.array(arr2)\n",
        "\n",
        "    # Compute the mean of each array\n",
        "    mean_arr1 = np.mean(arr1)\n",
        "    mean_arr2 = np.mean(arr2)\n",
        "\n",
        "    # Compute the cross-correlation term\n",
        "    cross_correlation = np.sum((arr1 - mean_arr1) * (arr2 - mean_arr2))\n",
        "\n",
        "    # Compute the denominators for the normalization\n",
        "    normalization_denominator1 = np.sqrt(np.sum((arr1 - mean_arr1) ** 2))\n",
        "    normalization_denominator2 = np.sqrt(np.sum((arr2 - mean_arr2) ** 2))\n",
        "\n",
        "    # Compute the normalized cross-correlation\n",
        "    ncc = cross_correlation / (normalization_denominator1 * normalization_denominator2)\n",
        "\n",
        "    return ncc"
      ],
      "metadata": {
        "colab": {
          "base_uri": "https://localhost:8080/"
        },
        "id": "1gS6nnDW45IU",
        "outputId": "8598076f-4965-440f-ec02-186666ac2508"
      },
      "execution_count": 10,
      "outputs": [
        {
          "output_type": "stream",
          "name": "stdout",
          "text": [
            "Requirement already satisfied: antspyx in /usr/local/lib/python3.11/dist-packages (0.5.4)\n",
            "Requirement already satisfied: pandas in /usr/local/lib/python3.11/dist-packages (from antspyx) (2.2.2)\n",
            "Requirement already satisfied: pyyaml in /usr/local/lib/python3.11/dist-packages (from antspyx) (6.0.2)\n",
            "Requirement already satisfied: numpy<=2.0.1 in /usr/local/lib/python3.11/dist-packages (from antspyx) (1.26.4)\n",
            "Requirement already satisfied: statsmodels in /usr/local/lib/python3.11/dist-packages (from antspyx) (0.14.4)\n",
            "Requirement already satisfied: webcolors in /usr/local/lib/python3.11/dist-packages (from antspyx) (24.11.1)\n",
            "Requirement already satisfied: matplotlib in /usr/local/lib/python3.11/dist-packages (from antspyx) (3.10.0)\n",
            "Requirement already satisfied: Pillow in /usr/local/lib/python3.11/dist-packages (from antspyx) (11.1.0)\n",
            "Requirement already satisfied: requests in /usr/local/lib/python3.11/dist-packages (from antspyx) (2.32.3)\n",
            "Requirement already satisfied: contourpy>=1.0.1 in /usr/local/lib/python3.11/dist-packages (from matplotlib->antspyx) (1.3.1)\n",
            "Requirement already satisfied: cycler>=0.10 in /usr/local/lib/python3.11/dist-packages (from matplotlib->antspyx) (0.12.1)\n",
            "Requirement already satisfied: fonttools>=4.22.0 in /usr/local/lib/python3.11/dist-packages (from matplotlib->antspyx) (4.55.8)\n",
            "Requirement already satisfied: kiwisolver>=1.3.1 in /usr/local/lib/python3.11/dist-packages (from matplotlib->antspyx) (1.4.8)\n",
            "Requirement already satisfied: packaging>=20.0 in /usr/local/lib/python3.11/dist-packages (from matplotlib->antspyx) (24.2)\n",
            "Requirement already satisfied: pyparsing>=2.3.1 in /usr/local/lib/python3.11/dist-packages (from matplotlib->antspyx) (3.2.1)\n",
            "Requirement already satisfied: python-dateutil>=2.7 in /usr/local/lib/python3.11/dist-packages (from matplotlib->antspyx) (2.8.2)\n",
            "Requirement already satisfied: pytz>=2020.1 in /usr/local/lib/python3.11/dist-packages (from pandas->antspyx) (2025.1)\n",
            "Requirement already satisfied: tzdata>=2022.7 in /usr/local/lib/python3.11/dist-packages (from pandas->antspyx) (2025.1)\n",
            "Requirement already satisfied: charset-normalizer<4,>=2 in /usr/local/lib/python3.11/dist-packages (from requests->antspyx) (3.4.1)\n",
            "Requirement already satisfied: idna<4,>=2.5 in /usr/local/lib/python3.11/dist-packages (from requests->antspyx) (3.10)\n",
            "Requirement already satisfied: urllib3<3,>=1.21.1 in /usr/local/lib/python3.11/dist-packages (from requests->antspyx) (2.3.0)\n",
            "Requirement already satisfied: certifi>=2017.4.17 in /usr/local/lib/python3.11/dist-packages (from requests->antspyx) (2025.1.31)\n",
            "Requirement already satisfied: scipy!=1.9.2,>=1.8 in /usr/local/lib/python3.11/dist-packages (from statsmodels->antspyx) (1.13.1)\n",
            "Requirement already satisfied: patsy>=0.5.6 in /usr/local/lib/python3.11/dist-packages (from statsmodels->antspyx) (1.0.1)\n",
            "Requirement already satisfied: six>=1.5 in /usr/local/lib/python3.11/dist-packages (from python-dateutil>=2.7->matplotlib->antspyx) (1.17.0)\n"
          ]
        }
      ]
    },
    {
      "cell_type": "markdown",
      "source": [
        "We have defined two functions: one that applies a displacement field using ANTs and another that applies the same displacement field using map_coordinates from the scipy.ndimage library. First, we apply the deformation with ANTs"
      ],
      "metadata": {
        "id": "Y2CcCmK35E7q"
      }
    },
    {
      "cell_type": "code",
      "source": [
        "mri_path = 'mri.nii.gz'\n",
        "warp_field_path = 'warp.nii.gz'\n",
        "output_path_ants = 'mri_disp_ants.nii.gz'\n",
        "\n",
        "apply_with_ants(mri_path, warp_field_path, output_path_ants)\n"
      ],
      "metadata": {
        "id": "i4Tja0bh5mVh"
      },
      "execution_count": 11,
      "outputs": []
    },
    {
      "cell_type": "markdown",
      "source": [
        "Then, we apply the same displacement field with map_coordinates"
      ],
      "metadata": {
        "id": "M5H9CVer6DZ2"
      }
    },
    {
      "cell_type": "code",
      "source": [
        "output_path_map = 'mri_disp_alternative.nii.gz'\n",
        "apply_warp_alternative(mri_path, warp_field_path, interp_order = 3, output_path_map = output_path_map)"
      ],
      "metadata": {
        "id": "FkTPvm166Jxo"
      },
      "execution_count": 19,
      "outputs": []
    },
    {
      "cell_type": "markdown",
      "source": [
        "Finally, we compute the Cross-Correlation (NCC) between deformed image with ANTs and map_coordinates."
      ],
      "metadata": {
        "id": "2MBSkA9U8dZ9"
      }
    },
    {
      "cell_type": "code",
      "source": [
        "ants_image = nib.load(output_path_ants).get_fdata()\n",
        "map_image = nib.load(output_path_map).get_fdata()\n",
        "\n",
        "ncc = compute_ncc(ants_image, ants_image)\n",
        "\n",
        "print(f'NCC value is {ncc}')"
      ],
      "metadata": {
        "colab": {
          "base_uri": "https://localhost:8080/"
        },
        "id": "6Ts2UuB067TL",
        "outputId": "57ffddb1-4598-45d5-b5a9-acd0b8c65f95"
      },
      "execution_count": 16,
      "outputs": [
        {
          "output_type": "stream",
          "name": "stdout",
          "text": [
            "NCC value is 1.0\n"
          ]
        }
      ]
    },
    {
      "cell_type": "markdown",
      "source": [
        "As we can see, the NCC value is 1, which confirms that applying a deformation field with either ANTs or map_coordinates yields the same result. This is because applying a deformation field is a deterministic process, independent of the method used"
      ],
      "metadata": {
        "id": "dFZo8ia88xca"
      }
    }
  ]
}